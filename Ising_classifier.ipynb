{
 "cells": [
  {
   "cell_type": "markdown",
   "id": "58c00cdc",
   "metadata": {},
   "source": [
    "<h4>1: Data Processing.</h4>"
   ]
  },
  {
   "cell_type": "code",
   "execution_count": 2,
   "id": "5695c6ed",
   "metadata": {
    "scrolled": true
   },
   "outputs": [
    {
     "name": "stderr",
     "output_type": "stream",
     "text": [
      "fatal: destination path 'PHYS3151-Machine-Learning-in-Physics-2024' already exists and is not an empty directory.\n"
     ]
    }
   ],
   "source": [
    "# import libraries\n",
    "import pandas as pd\n",
    "import numpy as np\n",
    "import matplotlib.pyplot as plt\n",
    "import random\n",
    "import time\n",
    "\n",
    "!git clone https://github.com/DavidGoing/PHYS3151-Machine-Learning-in-Physics-2024"
   ]
  },
  {
   "cell_type": "code",
   "execution_count": 3,
   "id": "5fcc010a",
   "metadata": {},
   "outputs": [],
   "source": [
    "# import configurations\n",
    "X = pd.read_csv(\"PHYS3151-Machine-Learning-in-Physics-2024/feedforward-neural-network/Ising/Ising_conf.csv\", header=None) \n",
    "X = np.array(X)\n",
    "\n",
    "# obtain mean and sd over each columns\n",
    "X_mean = np.mean(X, axis=0)\n",
    "X_sd = np.std(X, axis=0)\n",
    "X_standardized = np.zeros(X.shape)\n",
    "\n",
    "# standardized configurations \n",
    "for i in range(X.shape[1]):\n",
    "    X_standardized[:,i] = (X[:,i] - X_mean[i]) / X_sd[i]"
   ]
  },
  {
   "cell_type": "code",
   "execution_count": 4,
   "id": "7c0817bb",
   "metadata": {},
   "outputs": [],
   "source": [
    "# import temperature\n",
    "Y_temp = pd.read_csv(\"PHYS3151-Machine-Learning-in-Physics-2024/feedforward-neural-network/Ising/Ising_temp.csv\", header=None) \n",
    "Y_temp = np.array(Y_temp)\n",
    "Y = np.empty_like(Y_temp)\n",
    "\n",
    "# modifying labels => ordered vs disordered\n",
    "for i in range(Y_temp.shape[0]):\n",
    "    if Y_temp[i,0] < 2.269:\n",
    "        Y[i,0] = 1\n",
    "    else:\n",
    "        Y[i,0] = 0"
   ]
  },
  {
   "cell_type": "markdown",
   "id": "ba28cb25",
   "metadata": {},
   "source": [
    "<h4>2: Model Construction.</h4>"
   ]
  },
  {
   "cell_type": "code",
   "execution_count": 5,
   "id": "f1fad966",
   "metadata": {},
   "outputs": [],
   "source": [
    "# diff = True => return derivative of sigmoid\n",
    "def sigmoid(z, diff = False):\n",
    "    if diff == False:\n",
    "        return 1.0/(1.0+np.exp(-z))\n",
    "    else: \n",
    "        return sigmoid(z)*(1-sigmoid(z))"
   ]
  },
  {
   "cell_type": "code",
   "execution_count": 6,
   "id": "2ca5f8ad",
   "metadata": {},
   "outputs": [],
   "source": [
    "class Network:\n",
    "    \n",
    "    # sizes = [2,2,1] => 2 input neurons + 2 hidden neurons + 1 output neuron\n",
    "    def __init__(self, sizes): \n",
    "        self.num_layers = len(sizes)\n",
    "        self.sizes = sizes\n",
    "        self.biases = [np.random.randn(y, 1) for y in sizes[1:]]\n",
    "        self.weights = [np.random.randn(y, x)\n",
    "                        for x, y in zip(sizes[:-1], sizes[1:])]\n",
    "    \n",
    "    # forward propagation # x is input\n",
    "    # activations_zs = True => return the lists of activations and zs in that forward propagation\n",
    "    def forward_propagation(self, x, activations_zs = False):\n",
    "        x = x.reshape((self.sizes[0],1))\n",
    "        zs = []\n",
    "        activations = [x]\n",
    "        a = x\n",
    "        \n",
    "        for w, b in zip(self.weights, self.biases):\n",
    "            z = (w @ a) + b\n",
    "            zs.append(z)\n",
    "            a = sigmoid(z)\n",
    "            activations.append(a)\n",
    "            \n",
    "        if activations_zs == True:\n",
    "            return a, activations, zs\n",
    "        else:\n",
    "            return a\n",
    "    \n",
    "    # return dJ/dtheta for every weights and biases through one back propagration\n",
    "    # activations and zs from forward propagation are required\n",
    "    def back_propagration(self, y, activations, zs):\n",
    "        dJdthe_b = [np.zeros(b.shape) for b in self.biases]\n",
    "        dJdthe_w = [np.zeros(w.shape) for w in self.weights]\n",
    "                        \n",
    "        # back propagration => obtain dJdthe_w and dJdthe_b\n",
    "        # last layer\n",
    "        delta = ( activations[-1] - y ) * sigmoid(zs[-1], diff = True)\n",
    "        dJdthe_b[-1] = delta \n",
    "        dJdthe_w[-1] = delta @ activations[-2].T\n",
    "        \n",
    "        # from second last layer to the front\n",
    "        for layer in range(2, self.num_layers):\n",
    "            delta = ( self.weights[-layer + 1].T @ delta ) * sigmoid(zs[-layer], diff = True)\n",
    "            dJdthe_b[-layer] = delta \n",
    "            dJdthe_w[-layer] = delta @ activations[-layer - 1].T  \n",
    "            \n",
    "        return (dJdthe_w, dJdthe_b)\n",
    "    \n",
    "    # gradient descent \n",
    "    # only use X_train and Y_train to update the weights and biases\n",
    "    # X_test and Y_test are just for accuracys_test\n",
    "    def optimization(self, X_train, Y_train, eta, epochs, calculate_cost = False, calculate_accuracy = False, \n",
    "                     X_test = None, Y_test = None):\n",
    "        \n",
    "        start_time = time.time()\n",
    "        \n",
    "        costs = [] # Cost J calculated from training set \n",
    "        accuracys_train = [] # Accuracy calculated from training set\n",
    "        accuracys_test = [] # Accuracy calculated from testing set.\n",
    "        \n",
    "        for i in range(epochs):\n",
    "            # loop over each examples in training set\n",
    "            for x, y in zip(X_train, Y_train):\n",
    "\n",
    "                # use forward_propagation and back_propagration to obtain the gradient of cost function\n",
    "                a, activations, zs = self.forward_propagation(x, activations_zs =True)\n",
    "                dJdthe_w, dJdthe_b = self.back_propagration(y, activations, zs)\n",
    "\n",
    "                # update the weights and biases\n",
    "                self.weights = [w - eta * dJ for w, dJ in zip(self.weights, dJdthe_w)]\n",
    "                self.biases = [b - eta * dJ for b, dJ in zip(self.biases, dJdthe_b)]\n",
    "            \n",
    "            # store the cost for each iteration calculated from training set\n",
    "            costs.append(self.mean_squared_error(X_train, Y_train))\n",
    "            \n",
    "            if calculate_accuracy == True:\n",
    "                accuracys_train.append(self.accuracy(X_train, Y_train))\n",
    "                accuracys_test.append(self.accuracy(X_test, Y_test))\n",
    "            \n",
    "            completion_per = (i + 1) / epochs * 100\n",
    "            # check if the completion percentage is a multiple of 10\n",
    "            if completion_per % 10 == 0:\n",
    "                print(\"Epoch: {}/{} - {}% complete\".format(i + 1, epochs, completion_per))\n",
    "        \n",
    "        end_time = time.time()\n",
    "        elapsed_time = (end_time - start_time) / 60\n",
    "        print('')\n",
    "        print(f'Elapsed time: {elapsed_time:.2f}  minutes')\n",
    "\n",
    "        if calculate_cost and calculate_accuracy:\n",
    "            return costs, accuracys_train, accuracys_test\n",
    "        elif calculate_cost:\n",
    "            return costs\n",
    "        elif calculate_accuracy:\n",
    "            return accuracys_train, accuracys_test\n",
    "        \n",
    "\n",
    "        \n",
    "    #predict the output     \n",
    "    def predict(self, X_test):\n",
    "        results = []\n",
    "        for x in X_test:\n",
    "            a = self.forward_propagation(x)\n",
    "            if a[0,0] >= 0.5:\n",
    "                results.append(1)\n",
    "            else:\n",
    "                results.append(0)\n",
    "        return np.array(results)\n",
    "    \n",
    "    # cost function is defined as mean squared error\n",
    "    def mean_squared_error(self, X, Y):\n",
    "        m = X.shape[0]\n",
    "        outputs = []\n",
    "        for x in X:\n",
    "            output = self.forward_propagation(x)\n",
    "            outputs.append(output[0,0])\n",
    "        outputs = np.array(outputs)\n",
    "        mse = sum((output - y) ** 2 for output, y in zip(outputs, Y)) / m\n",
    "        return mse\n",
    "    \n",
    "    # accuracy calculator\n",
    "    def accuracy(self, X, Y):\n",
    "        Y_pred = self.predict(X)\n",
    "        correct = np.sum(np.equal(Y_pred, Y))\n",
    "        accuracy = correct / len(Y) * 100\n",
    "        return accuracy"
   ]
  },
  {
   "cell_type": "code",
   "execution_count": 7,
   "id": "cd610fba",
   "metadata": {},
   "outputs": [],
   "source": [
    "network_1 = Network([100,3,1])"
   ]
  },
  {
   "cell_type": "markdown",
   "id": "1bfa226e",
   "metadata": {},
   "source": [
    "<h4>3: Model Training.</h4>\n"
   ]
  },
  {
   "cell_type": "code",
   "execution_count": 8,
   "id": "c5d3ba7e",
   "metadata": {},
   "outputs": [],
   "source": [
    "def train_test_split(X, Y, num_train):\n",
    "    # concatenate X and Y as one 2d array\n",
    "    data = np.concatenate((X,Y), axis=1)\n",
    "    np.random.shuffle(data)\n",
    "    train_data = data[:num_train]\n",
    "    test_data = data[num_train:]\n",
    "    \n",
    "    # return X_train, Y_train, X_test, Y_test\n",
    "    return train_data[:, :-1], train_data[:, -1] , test_data[:, :-1], test_data[:, -1] "
   ]
  },
  {
   "cell_type": "code",
   "execution_count": 9,
   "id": "e717faac",
   "metadata": {},
   "outputs": [],
   "source": [
    "# 1000 training data and 5000 testing data\n",
    "X_train, Y_train, X_test, Y_test = train_test_split(X_standardized, Y, num_train = 1000)"
   ]
  },
  {
   "cell_type": "code",
   "execution_count": 10,
   "id": "d8271631",
   "metadata": {},
   "outputs": [
    {
     "name": "stdout",
     "output_type": "stream",
     "text": [
      "Epoch: 100/1000 - 10.0% complete\n",
      "Epoch: 200/1000 - 20.0% complete\n",
      "Epoch: 300/1000 - 30.0% complete\n",
      "Epoch: 400/1000 - 40.0% complete\n",
      "Epoch: 500/1000 - 50.0% complete\n",
      "Epoch: 600/1000 - 60.0% complete\n",
      "Epoch: 700/1000 - 70.0% complete\n",
      "Epoch: 800/1000 - 80.0% complete\n",
      "Epoch: 900/1000 - 90.0% complete\n",
      "Epoch: 1000/1000 - 100.0% complete\n",
      "\n",
      "Elapsed time: 9.14  minutes\n"
     ]
    }
   ],
   "source": [
    "# cost_1 => list of costs of network_1 calculated from training set \n",
    "# accuracys_1_train => list of Aaccuracy of network_1 calculated from training set\n",
    "# accuracys_1_test => list of Aaccuracy of network_1 calculated from test set\n",
    "cost_1, accuracys_1_train, accuracys_1_test  = network_1.optimization(X_train, Y_train, eta = 0.1, epochs = 1000, calculate_cost = True, calculate_accuracy = True, \n",
    "                     X_test = X_test, Y_test = Y_test)"
   ]
  },
  {
   "cell_type": "markdown",
   "id": "af5afa44",
   "metadata": {},
   "source": [
    "<h4>4: Model Evaluation.</h4>\n"
   ]
  },
  {
   "cell_type": "code",
   "execution_count": 11,
   "id": "d460cac2",
   "metadata": {},
   "outputs": [],
   "source": [
    "# lists of output neurons for two networks\n",
    "out_neus_1 = []\n",
    "\n",
    "# forward_propagation\n",
    "for x in X_standardized:\n",
    "    y_pred_1 = network_1.forward_propagation(x)\n",
    "    out_neus_1.append(y_pred_1[0,0])\n",
    "\n",
    "\n",
    "out_neus_1 = np.array(out_neus_1)\n",
    "\n",
    "# mean value of all outputs of network 1 with the same temperature\n",
    "df_1 = pd.DataFrame({'output': out_neus_1, 'temp': Y_temp.reshape(6000,)})\n",
    "mn_output_1 = df_1.groupby('temp').mean()"
   ]
  },
  {
   "cell_type": "code",
   "execution_count": 12,
   "id": "0c59039e",
   "metadata": {},
   "outputs": [
    {
     "data": {
      "text/plain": [
       "<matplotlib.lines.Line2D at 0x25c106c8a00>"
      ]
     },
     "execution_count": 12,
     "metadata": {},
     "output_type": "execute_result"
    },
    {
     "data": {
      "image/png": "[encoded data removed]",
      "text/plain": [
       "<Figure size 640x480 with 1 Axes>"
      ]
     },
     "metadata": {},
     "output_type": "display_data"
    }
   ],
   "source": [
    "plt.scatter(Y_temp, out_neus_1, color='purple', alpha=0.5, s=20)\n",
    "plt.plot(mn_output_1.index, mn_output_1.values)\n",
    "plt.title('Neural Network 1')\n",
    "plt.xlabel(r'Temperature ($^{\\circ}C$)')\n",
    "plt.ylabel('Output')\n",
    "plt.axhline(y=0.5, color='red')\n",
    "plt.axvline(x=2.269, color='teal')"
   ]
  }
 ],
 "metadata": {
  "kernelspec": {
   "display_name": "Python 3 (ipykernel)",
   "language": "python",
   "name": "python3"
  },
  "language_info": {
   "codemirror_mode": {
    "name": "ipython",
    "version": 3
   },
   "file_extension": ".py",
   "mimetype": "text/x-python",
   "name": "python",
   "nbconvert_exporter": "python",
   "pygments_lexer": "ipython3",
   "version": "3.9.13"
  }
 },
 "nbformat": 4,
 "nbformat_minor": 5
}
